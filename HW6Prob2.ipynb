{
 "cells": [
  {
   "cell_type": "code",
   "execution_count": null,
   "id": "878ea6bb",
   "metadata": {},
   "outputs": [],
   "source": [
    "import numpy as np\n",
    "import cartopy.crs as ccrs\n",
    "import matplotlib.pyplot as plt\n",
    "import requests\n",
    "import geojson"
   ]
  },
  {
   "cell_type": "code",
   "execution_count": null,
   "id": "03d8fda4",
   "metadata": {},
   "outputs": [],
   "source": [
    "minlon=48\n",
    "maxlon=58.5\n",
    "minlat=25\n",
    "maxlat=34.2"
   ]
  },
  {
   "cell_type": "code",
   "execution_count": null,
   "id": "02f8cc86",
   "metadata": {},
   "outputs": [],
   "source": [
    "#For now I'm hardwiring in 100 years, if you change the timespan, change the variable below, which is used later\n",
    "numyears=100\n",
    "\n",
    "parameters={\n",
    "    \"starttime\":\"1913-01-01\",\n",
    "    \"endtime\":\"2013-12-31\",\n",
    "    \"minmagnitude\":4,\n",
    "    \"minlatitude\":minlat,\n",
    "    \"maxlatitude\":maxlat,\n",
    "    \"minlongitude\":minlon,\n",
    "    \"maxlongitude\":maxlon,\n",
    "    \"limit\":20000,\n",
    "    \"format\":\"geojson\"\n",
    "}\n",
    "response=requests.get(\"https://earthquake.usgs.gov/fdsnws/event/1/query\",params=parameters)\n",
    "output=response.json()\n",
    "numquakes = len(output['features'])\n",
    "print(numquakes) \n",
    "#note that if you hit 20,000 you've maxed out and need to look at a smaller area or time span.  \n",
    "#Otherwise, you will be THINKING you have 100 years of earthquakes and in reality you will \n",
    "#have 75 or something like that and the \"divide N by timespan\" step below will be wrong.\n"
   ]
  },
  {
   "cell_type": "code",
   "execution_count": null,
   "id": "a421908f",
   "metadata": {},
   "outputs": [],
   "source": [
    "lon=np.empty(numquakes,)\n",
    "lat=np.empty(numquakes,)\n",
    "z=np.empty(numquakes,)\n",
    "mag=np.empty(numquakes,)\n",
    "for i in range(numquakes):\n",
    "    lon[i] = output['features'][i]['geometry']['coordinates'][0]\n",
    "    lat[i] = output['features'][i]['geometry']['coordinates'][1]\n",
    "    z[i]   = output['features'][i]['geometry']['coordinates'][2]   \n",
    "    mag[i] = output['features'][i]['properties']['mag']\n",
    "    "
   ]
  },
  {
   "cell_type": "code",
   "execution_count": null,
   "id": "fb10178f",
   "metadata": {},
   "outputs": [],
   "source": [
    "fig=plt.figure(figsize=(10,10))\n",
    "ax = plt.axes(projection=ccrs.PlateCarree())\n",
    "ax.set_extent([minlon,maxlon,minlat,maxlat])\n",
    "ax.coastlines()\n",
    "ax.stock_img()\n",
    "\n",
    "im=ax.scatter(lon,lat,s=4,c=z,cmap='rainbow')\n",
    "\n",
    "gl = ax.gridlines(draw_labels=True, linewidth=2, color='gray', alpha=0.5, linestyle='--')\n",
    "gl.top_labels = False\n",
    "gl.right_labels = False\n",
    "gl.ylabel_style = {'size': 15, 'color': 'gray'}\n",
    "gl.xlabel_style = {'color': 'red', 'weight': 'bold'}\n",
    "fig.colorbar(im,ax=ax,label='Depth (km)',orientation='horizontal')\n",
    "plt.show()\n"
   ]
  },
  {
   "cell_type": "code",
   "execution_count": null,
   "id": "e61a8a1c",
   "metadata": {},
   "outputs": [],
   "source": [
    "deltamag=0.01\n",
    "bins=np.arange(4,10,deltamag)\n",
    "numbins=len(bins)\n",
    "N=np.empty(numbins,)\n",
    "for i in range(numbins):\n",
    "    goodmag = np.where((mag >= bins[i]))\n",
    "    N[i]=np.shape(goodmag)[1]\n",
    " \n",
    "N[N == 0] = 'nan' # or use np.nan\n",
    "goodid = np.where(np.isfinite(N))\n",
    "N = N/numyears\n",
    "\n",
    "\n",
    "bestline = np.polyfit(bins[goodid], np.log10(N[goodid]), 1)\n",
    "print('b   = ' + str(-bestline[0]) + ', a = ' + str(bestline[1]))\n",
    "line = bestline[0]*bins + bestline[1]\n",
    "print('a/b = '+str(-bestline[1]/bestline[0]))\n"
   ]
  },
  {
   "cell_type": "code",
   "execution_count": null,
   "id": "a816f2f1-87b2-4d29-b22c-7efc5e5bfb5c",
   "metadata": {},
   "outputs": [],
   "source": [
    "fig=plt.figure(figsize=(10,10))\n",
    "\n",
    "plt.plot(bins,np.power(10,line),'r-')\n",
    "plt.semilogy(bins,N,'*')\n",
    "plt.grid()\n",
    "plt.ylabel('N, events/year with magnitude >M')\n",
    "plt.xlabel('Magnitude, M')\n",
    "plt.legend(('G-R fit','all data'))\n",
    "\n",
    "plt.show()"
   ]
  },
  {
   "cell_type": "code",
   "execution_count": null,
   "id": "8635217b-ca29-440b-ad52-7116d0a375bf",
   "metadata": {},
   "outputs": [],
   "source": [
    "#Now cull out points in this plot below a guess of the \"magnitude completeness threshold\"\n",
    "mineq=4.3\n",
    "maxeq=8\n",
    "\n",
    "goodid = np.where(np.isfinite(N) & (bins > mineq) & (bins<maxeq))\n",
    "\n",
    "bestline = np.polyfit(bins[goodid], np.log10(N[goodid]), 1)\n",
    "print('b   = ' + str(-bestline[0]) + ', a = ' + str(bestline[1]))\n",
    "line = bestline[0]*bins + bestline[1]\n",
    "print('a/b = '+str(-bestline[1]/bestline[0]))"
   ]
  },
  {
   "cell_type": "code",
   "execution_count": null,
   "id": "054a3d6b-e53b-4e40-99c5-cd3197c51c1f",
   "metadata": {},
   "outputs": [],
   "source": [
    "fig=plt.figure(figsize=(10,10))\n",
    "\n",
    "plt.plot(bins,np.power(10,line),'r-')\n",
    "plt.semilogy(bins,N,'*')\n",
    "plt.semilogy(bins[goodid],N[goodid],'ro')\n",
    "plt.grid()\n",
    "plt.ylabel('N, events/year with magnitude >M')\n",
    "plt.xlabel('Magnitude, M')\n",
    "plt.legend(('G-R fit','all data','data after culling'))\n",
    "plt.show()"
   ]
  },
  {
   "cell_type": "code",
   "execution_count": null,
   "id": "62588756-9cb2-4ff1-b3a0-503cd591e887",
   "metadata": {},
   "outputs": [],
   "source": [
    "##Total seismic moment/year\n",
    "\n",
    "#this equation is wrong\n",
    "m0 = np.log10(1.5*mag+np.power(10,9.1))\n",
    "m0peryear = np.sum(m0)/numyears\n",
    "\n",
    "#fix this equation too!!!\n",
    "mwperyear = m0peryear-np.sin(np.sum(mag))\n",
    "print('Average moment realease in Newton-meters per year: '+str(m0peryear))\n",
    "print('Average Mw per year'+str(mwperyear))"
   ]
  },
  {
   "cell_type": "code",
   "execution_count": null,
   "id": "5ec51e54-ee6f-4a91-8c68-75420abb2bc5",
   "metadata": {},
   "outputs": [],
   "source": []
  }
 ],
 "metadata": {
  "kernelspec": {
   "display_name": "Python 3",
   "language": "python",
   "name": "python3"
  },
  "language_info": {
   "codemirror_mode": {
    "name": "ipython",
    "version": 3
   },
   "file_extension": ".py",
   "mimetype": "text/x-python",
   "name": "python",
   "nbconvert_exporter": "python",
   "pygments_lexer": "ipython3",
   "version": "3.7.0"
  }
 },
 "nbformat": 4,
 "nbformat_minor": 5
}
